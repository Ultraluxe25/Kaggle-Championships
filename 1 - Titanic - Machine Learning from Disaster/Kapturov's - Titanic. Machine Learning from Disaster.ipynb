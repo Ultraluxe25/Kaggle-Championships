{
 "cells": [
  {
   "cell_type": "markdown",
   "id": "a8d54312",
   "metadata": {
    "papermill": {
     "duration": 0.006621,
     "end_time": "2023-03-23T14:40:59.735842",
     "exception": false,
     "start_time": "2023-03-23T14:40:59.729221",
     "status": "completed"
    },
    "tags": []
   },
   "source": [
    "![](https://storage.googleapis.com/kaggle-competitions/kaggle/3136/logos/header.png)"
   ]
  },
  {
   "cell_type": "markdown",
   "id": "f75dbb48",
   "metadata": {
    "papermill": {
     "duration": 0.005903,
     "end_time": "2023-03-23T14:40:59.747648",
     "exception": false,
     "start_time": "2023-03-23T14:40:59.741745",
     "status": "completed"
    },
    "tags": []
   },
   "source": [
    "# Titanic - Machine Learning from Disaster"
   ]
  },
  {
   "cell_type": "code",
   "execution_count": 1,
   "id": "4fb81bd6",
   "metadata": {
    "_cell_guid": "b1076dfc-b9ad-4769-8c92-a6c4dae69d19",
    "_uuid": "8f2839f25d086af736a60e9eeb907d3b93b6e0e5",
    "execution": {
     "iopub.execute_input": "2023-03-23T14:40:59.761955Z",
     "iopub.status.busy": "2023-03-23T14:40:59.761537Z",
     "iopub.status.idle": "2023-03-23T14:40:59.778589Z",
     "shell.execute_reply": "2023-03-23T14:40:59.776805Z"
    },
    "papermill": {
     "duration": 0.028221,
     "end_time": "2023-03-23T14:40:59.781925",
     "exception": false,
     "start_time": "2023-03-23T14:40:59.753704",
     "status": "completed"
    },
    "tags": []
   },
   "outputs": [
    {
     "name": "stdout",
     "output_type": "stream",
     "text": [
      "/kaggle/input/titanic/train.csv\n",
      "/kaggle/input/titanic/test.csv\n",
      "/kaggle/input/titanic/gender_submission.csv\n"
     ]
    }
   ],
   "source": [
    "# This Python 3 environment comes with many helpful analytics libraries installed\n",
    "# It is defined by the kaggle/python Docker image: https://github.com/kaggle/docker-python\n",
    "# For example, here's several helpful packages to load\n",
    "\n",
    "import numpy as np # linear algebra\n",
    "import pandas as pd # data processing, CSV file I/O (e.g. pd.read_csv)\n",
    "\n",
    "# Input data files are available in the read-only \"../input/\" directory\n",
    "# For example, running this (by clicking run or pressing Shift+Enter) will list all files under the input directory\n",
    "\n",
    "import os\n",
    "for dirname, _, filenames in os.walk('/kaggle/input'):\n",
    "    for filename in filenames:\n",
    "        print(os.path.join(dirname, filename))\n",
    "\n",
    "# You can write up to 20GB to the current directory (/kaggle/working/) that gets preserved as output when you create a version using \"Save & Run All\" \n",
    "# You can also write temporary files to /kaggle/temp/, but they won't be saved outside of the current session"
   ]
  },
  {
   "cell_type": "markdown",
   "id": "f93b3306",
   "metadata": {
    "papermill": {
     "duration": 0.005545,
     "end_time": "2023-03-23T14:40:59.793489",
     "exception": false,
     "start_time": "2023-03-23T14:40:59.787944",
     "status": "completed"
    },
    "tags": []
   },
   "source": [
    "The sinking of the Titanic is one of the most infamous shipwrecks in history.\n",
    "\n",
    "On April 15, 1912, during her maiden voyage, the widely considered “unsinkable” RMS Titanic sank after colliding with an iceberg. Unfortunately, there weren’t enough lifeboats for everyone onboard, resulting in the death of 1502 out of 2224 passengers and crew.\n",
    "\n",
    "While there was some element of luck involved in surviving, it seems some groups of people were more likely to survive than others.\n",
    "\n",
    "In this challenge, we ask you to build a predictive model that answers the question: “what sorts of people were more likely to survive?” using passenger data (ie name, age, gender, socio-economic class, etc)."
   ]
  },
  {
   "cell_type": "code",
   "execution_count": 2,
   "id": "ac4b49ec",
   "metadata": {
    "execution": {
     "iopub.execute_input": "2023-03-23T14:40:59.807121Z",
     "iopub.status.busy": "2023-03-23T14:40:59.806697Z",
     "iopub.status.idle": "2023-03-23T14:41:01.765045Z",
     "shell.execute_reply": "2023-03-23T14:41:01.762975Z"
    },
    "papermill": {
     "duration": 1.971014,
     "end_time": "2023-03-23T14:41:01.770420",
     "exception": false,
     "start_time": "2023-03-23T14:40:59.799406",
     "status": "completed"
    },
    "tags": []
   },
   "outputs": [],
   "source": [
    "# 1 - import libraries\n",
    "\n",
    "import warnings\n",
    "import numpy as np\n",
    "import pandas as pd\n",
    "import matplotlib.pyplot as plt\n",
    "import seaborn as sns\n",
    "from sklearn.preprocessing import StandardScaler\n",
    "from sklearn.linear_model import LogisticRegression\n",
    "from sklearn.neighbors import KNeighborsClassifier\n",
    "from sklearn.tree import DecisionTreeClassifier, plot_tree\n",
    "from sklearn.metrics import classification_report"
   ]
  },
  {
   "cell_type": "code",
   "execution_count": 3,
   "id": "a419b373",
   "metadata": {
    "execution": {
     "iopub.execute_input": "2023-03-23T14:41:01.792552Z",
     "iopub.status.busy": "2023-03-23T14:41:01.791126Z",
     "iopub.status.idle": "2023-03-23T14:41:01.835805Z",
     "shell.execute_reply": "2023-03-23T14:41:01.834437Z"
    },
    "papermill": {
     "duration": 0.059931,
     "end_time": "2023-03-23T14:41:01.839938",
     "exception": false,
     "start_time": "2023-03-23T14:41:01.780007",
     "status": "completed"
    },
    "tags": []
   },
   "outputs": [],
   "source": [
    "# 2 - load the training and test set\n",
    "\n",
    "train = pd.read_csv('/kaggle/input/titanic/train.csv')\n",
    "test = pd.read_csv('/kaggle/input/titanic/test.csv')"
   ]
  },
  {
   "cell_type": "code",
   "execution_count": 4,
   "id": "a0870716",
   "metadata": {
    "execution": {
     "iopub.execute_input": "2023-03-23T14:41:01.858755Z",
     "iopub.status.busy": "2023-03-23T14:41:01.858286Z",
     "iopub.status.idle": "2023-03-23T14:41:01.905555Z",
     "shell.execute_reply": "2023-03-23T14:41:01.904437Z"
    },
    "papermill": {
     "duration": 0.060076,
     "end_time": "2023-03-23T14:41:01.909480",
     "exception": false,
     "start_time": "2023-03-23T14:41:01.849404",
     "status": "completed"
    },
    "tags": []
   },
   "outputs": [],
   "source": [
    "# 3 - consider data gaps and fill them with modal values\n",
    "\n",
    "# print(train.isna().sum())\n",
    "# print(test.isna().sum())\n",
    "\n",
    "train = train.fillna(value=train.mode().iloc[0])\n",
    "test = test.fillna(value=test.mode().iloc[0])"
   ]
  },
  {
   "cell_type": "code",
   "execution_count": 5,
   "id": "814005db",
   "metadata": {
    "execution": {
     "iopub.execute_input": "2023-03-23T14:41:01.929282Z",
     "iopub.status.busy": "2023-03-23T14:41:01.927896Z",
     "iopub.status.idle": "2023-03-23T14:41:01.940497Z",
     "shell.execute_reply": "2023-03-23T14:41:01.939167Z"
    },
    "papermill": {
     "duration": 0.024772,
     "end_time": "2023-03-23T14:41:01.944178",
     "exception": false,
     "start_time": "2023-03-23T14:41:01.919406",
     "status": "completed"
    },
    "tags": []
   },
   "outputs": [
    {
     "data": {
      "text/plain": [
       "PassengerId    0\n",
       "Pclass         0\n",
       "Name           0\n",
       "Sex            0\n",
       "Age            0\n",
       "SibSp          0\n",
       "Parch          0\n",
       "Ticket         0\n",
       "Fare           0\n",
       "Cabin          0\n",
       "Embarked       0\n",
       "dtype: int64"
      ]
     },
     "execution_count": 5,
     "metadata": {},
     "output_type": "execute_result"
    }
   ],
   "source": [
    "# check that gaps are filled\n",
    "\n",
    "test.isna().sum() "
   ]
  },
  {
   "cell_type": "code",
   "execution_count": 6,
   "id": "9230d873",
   "metadata": {
    "execution": {
     "iopub.execute_input": "2023-03-23T14:41:01.966675Z",
     "iopub.status.busy": "2023-03-23T14:41:01.965868Z",
     "iopub.status.idle": "2023-03-23T14:41:01.977498Z",
     "shell.execute_reply": "2023-03-23T14:41:01.976342Z"
    },
    "papermill": {
     "duration": 0.027482,
     "end_time": "2023-03-23T14:41:01.981181",
     "exception": false,
     "start_time": "2023-03-23T14:41:01.953699",
     "status": "completed"
    },
    "tags": []
   },
   "outputs": [],
   "source": [
    "# 4 - leaving only certain features for learning\n",
    "\n",
    "train = train[['PassengerId', 'Pclass', 'Sex', 'Age', 'Fare', 'Survived']]\n",
    "test = test[['PassengerId', 'Pclass', 'Sex', 'Age', 'Fare']]"
   ]
  },
  {
   "cell_type": "code",
   "execution_count": 7,
   "id": "fe809968",
   "metadata": {
    "execution": {
     "iopub.execute_input": "2023-03-23T14:41:02.002707Z",
     "iopub.status.busy": "2023-03-23T14:41:02.001500Z",
     "iopub.status.idle": "2023-03-23T14:41:02.010730Z",
     "shell.execute_reply": "2023-03-23T14:41:02.009587Z"
    },
    "papermill": {
     "duration": 0.022162,
     "end_time": "2023-03-23T14:41:02.013643",
     "exception": false,
     "start_time": "2023-03-23T14:41:01.991481",
     "status": "completed"
    },
    "tags": []
   },
   "outputs": [],
   "source": [
    "# 5 - split the training dataset into X and y\n",
    "\n",
    "X = train.drop(['Survived'], axis=1)\n",
    "# X = train.loc[:, train.columns != 'Survived']\n",
    "y = train.Survived"
   ]
  },
  {
   "cell_type": "code",
   "execution_count": 8,
   "id": "edbc00d4",
   "metadata": {
    "execution": {
     "iopub.execute_input": "2023-03-23T14:41:02.027507Z",
     "iopub.status.busy": "2023-03-23T14:41:02.027014Z",
     "iopub.status.idle": "2023-03-23T14:41:02.046981Z",
     "shell.execute_reply": "2023-03-23T14:41:02.045973Z"
    },
    "papermill": {
     "duration": 0.030434,
     "end_time": "2023-03-23T14:41:02.049893",
     "exception": false,
     "start_time": "2023-03-23T14:41:02.019459",
     "status": "completed"
    },
    "tags": []
   },
   "outputs": [],
   "source": [
    "# 6 Let's do a One-Hot transformation with pandas\n",
    "\n",
    "X = pd.get_dummies(X, drop_first=True)\n",
    "test = pd.get_dummies(test, drop_first=True)"
   ]
  },
  {
   "cell_type": "code",
   "execution_count": 9,
   "id": "6daf17b3",
   "metadata": {
    "execution": {
     "iopub.execute_input": "2023-03-23T14:41:02.064082Z",
     "iopub.status.busy": "2023-03-23T14:41:02.063651Z",
     "iopub.status.idle": "2023-03-23T14:41:02.078119Z",
     "shell.execute_reply": "2023-03-23T14:41:02.076599Z"
    },
    "papermill": {
     "duration": 0.024919,
     "end_time": "2023-03-23T14:41:02.081265",
     "exception": false,
     "start_time": "2023-03-23T14:41:02.056346",
     "status": "completed"
    },
    "tags": []
   },
   "outputs": [],
   "source": [
    "# 7 - standardize the values in the samples\n",
    "\n",
    "sc = StandardScaler()\n",
    "train_std = sc.fit_transform(X)  # first we train\n",
    "test_std = sc.transform(test)"
   ]
  },
  {
   "cell_type": "code",
   "execution_count": 10,
   "id": "0abe1a6a",
   "metadata": {
    "execution": {
     "iopub.execute_input": "2023-03-23T14:41:02.095225Z",
     "iopub.status.busy": "2023-03-23T14:41:02.094707Z",
     "iopub.status.idle": "2023-03-23T14:41:02.116516Z",
     "shell.execute_reply": "2023-03-23T14:41:02.115549Z"
    },
    "papermill": {
     "duration": 0.032399,
     "end_time": "2023-03-23T14:41:02.119588",
     "exception": false,
     "start_time": "2023-03-23T14:41:02.087189",
     "status": "completed"
    },
    "tags": []
   },
   "outputs": [
    {
     "data": {
      "text/plain": [
       "array([0, 1, 1, 1, 0, 0, 0, 0, 1, 1, 1, 1, 0, 0, 1, 1, 0, 0, 1, 1, 0, 0,\n",
       "       1, 0, 1, 0, 0, 1, 1, 0])"
      ]
     },
     "execution_count": 10,
     "metadata": {},
     "output_type": "execute_result"
    }
   ],
   "source": [
    "# 8 - train the logistic regression model and get a prediction\n",
    "\n",
    "warnings.filterwarnings('ignore')\n",
    "\n",
    "clf_log_reg = LogisticRegression()\n",
    "clf_log_reg.fit(train_std, y)\n",
    "log_reg_prediction = clf_log_reg.predict(train_std)\n",
    "\n",
    "# display the first 30 predict values\n",
    "log_reg_prediction[:30]"
   ]
  },
  {
   "cell_type": "code",
   "execution_count": 11,
   "id": "a160d7ee",
   "metadata": {
    "execution": {
     "iopub.execute_input": "2023-03-23T14:41:02.144516Z",
     "iopub.status.busy": "2023-03-23T14:41:02.143638Z",
     "iopub.status.idle": "2023-03-23T14:41:02.183389Z",
     "shell.execute_reply": "2023-03-23T14:41:02.181997Z"
    },
    "papermill": {
     "duration": 0.055561,
     "end_time": "2023-03-23T14:41:02.186198",
     "exception": false,
     "start_time": "2023-03-23T14:41:02.130637",
     "status": "completed"
    },
    "tags": []
   },
   "outputs": [
    {
     "data": {
      "text/plain": [
       "array([0, 1, 1, 1, 0, 0, 0, 0, 1, 1, 1, 1, 0, 0, 1, 1, 0, 0, 1, 1, 0, 0,\n",
       "       1, 0, 0, 1, 0, 0, 1, 0])"
      ]
     },
     "execution_count": 11,
     "metadata": {},
     "output_type": "execute_result"
    }
   ],
   "source": [
    "# 9 - train the K-nearest neighbors model and get a prediction\n",
    "\n",
    "clf_KNN = KNeighborsClassifier()\n",
    "clf_KNN.fit(train_std, y)\n",
    "KNN_prediction = clf_KNN.predict(train_std)\n",
    "\n",
    "# display the first 30 forecast values\n",
    "KNN_prediction[:30]"
   ]
  },
  {
   "cell_type": "code",
   "execution_count": 12,
   "id": "e8e2fb78",
   "metadata": {
    "execution": {
     "iopub.execute_input": "2023-03-23T14:41:02.200076Z",
     "iopub.status.busy": "2023-03-23T14:41:02.199610Z",
     "iopub.status.idle": "2023-03-23T14:41:02.213972Z",
     "shell.execute_reply": "2023-03-23T14:41:02.212565Z"
    },
    "papermill": {
     "duration": 0.024422,
     "end_time": "2023-03-23T14:41:02.216701",
     "exception": false,
     "start_time": "2023-03-23T14:41:02.192279",
     "status": "completed"
    },
    "tags": []
   },
   "outputs": [
    {
     "data": {
      "text/plain": [
       "array([0, 1, 1, 1, 0, 0, 0, 0, 1, 1, 1, 1, 0, 0, 1, 1, 0, 0, 0, 1, 0, 0,\n",
       "       1, 0, 1, 0, 0, 0, 1, 0])"
      ]
     },
     "execution_count": 12,
     "metadata": {},
     "output_type": "execute_result"
    }
   ],
   "source": [
    "# 10 - train the decision tree model and get a prediction\n",
    "\n",
    "clf_Decision_tree = DecisionTreeClassifier(criterion='entropy', max_depth=5)\n",
    "clf_Decision_tree.fit(train_std, y)\n",
    "Decision_tree_prediction = clf_Decision_tree.predict(train_std)\n",
    "\n",
    "# display the first 30 forecast values\n",
    "Decision_tree_prediction[:30]"
   ]
  },
  {
   "cell_type": "code",
   "execution_count": 13,
   "id": "2bfac06d",
   "metadata": {
    "execution": {
     "iopub.execute_input": "2023-03-23T14:41:02.231282Z",
     "iopub.status.busy": "2023-03-23T14:41:02.230850Z",
     "iopub.status.idle": "2023-03-23T14:41:02.238537Z",
     "shell.execute_reply": "2023-03-23T14:41:02.237368Z"
    },
    "papermill": {
     "duration": 0.018057,
     "end_time": "2023-03-23T14:41:02.241022",
     "exception": false,
     "start_time": "2023-03-23T14:41:02.222965",
     "status": "completed"
    },
    "tags": []
   },
   "outputs": [
    {
     "data": {
      "text/plain": [
       "{'ccp_alpha': 0.0,\n",
       " 'class_weight': None,\n",
       " 'criterion': 'entropy',\n",
       " 'max_depth': 5,\n",
       " 'max_features': None,\n",
       " 'max_leaf_nodes': None,\n",
       " 'min_impurity_decrease': 0.0,\n",
       " 'min_samples_leaf': 1,\n",
       " 'min_samples_split': 2,\n",
       " 'min_weight_fraction_leaf': 0.0,\n",
       " 'random_state': None,\n",
       " 'splitter': 'best'}"
      ]
     },
     "execution_count": 13,
     "metadata": {},
     "output_type": "execute_result"
    }
   ],
   "source": [
    "# 11 - consider decision tree parameters\n",
    "\n",
    "clf_Decision_tree.get_params()"
   ]
  },
  {
   "cell_type": "code",
   "execution_count": 14,
   "id": "a6c24caa",
   "metadata": {
    "execution": {
     "iopub.execute_input": "2023-03-23T14:41:02.255581Z",
     "iopub.status.busy": "2023-03-23T14:41:02.255151Z",
     "iopub.status.idle": "2023-03-23T14:41:05.247649Z",
     "shell.execute_reply": "2023-03-23T14:41:05.246381Z"
    },
    "papermill": {
     "duration": 3.003027,
     "end_time": "2023-03-23T14:41:05.250382",
     "exception": false,
     "start_time": "2023-03-23T14:41:02.247355",
     "status": "completed"
    },
    "tags": []
   },
   "outputs": [
    {
     "data": {
      "image/png": "[encoded data removed]",
      "text/plain": [
       "<Figure size 640x480 with 1 Axes>"
      ]
     },
     "metadata": {},
     "output_type": "display_data"
    }
   ],
   "source": [
    "# 12 visualize the decision tree\n",
    "plot_tree(clf_Decision_tree, feature_names=list(train_std), filled=True, rounded=True);"
   ]
  },
  {
   "cell_type": "code",
   "execution_count": 15,
   "id": "2c467ea3",
   "metadata": {
    "execution": {
     "iopub.execute_input": "2023-03-23T14:41:05.267216Z",
     "iopub.status.busy": "2023-03-23T14:41:05.266785Z",
     "iopub.status.idle": "2023-03-23T14:41:05.291053Z",
     "shell.execute_reply": "2023-03-23T14:41:05.289949Z"
    },
    "papermill": {
     "duration": 0.036564,
     "end_time": "2023-03-23T14:41:05.294428",
     "exception": false,
     "start_time": "2023-03-23T14:41:05.257864",
     "status": "completed"
    },
    "tags": []
   },
   "outputs": [
    {
     "name": "stdout",
     "output_type": "stream",
     "text": [
      "Logistic Regression:\n",
      "              precision    recall  f1-score   support\n",
      "\n",
      "           0       0.83      0.83      0.83       549\n",
      "           1       0.73      0.73      0.73       342\n",
      "\n",
      "    accuracy                           0.79       891\n",
      "   macro avg       0.78      0.78      0.78       891\n",
      "weighted avg       0.79      0.79      0.79       891\n",
      "\n",
      "K-Nearest Neighbors\n",
      "              precision    recall  f1-score   support\n",
      "\n",
      "           0       0.87      0.92      0.89       549\n",
      "           1       0.86      0.77      0.81       342\n",
      "\n",
      "    accuracy                           0.86       891\n",
      "   macro avg       0.86      0.85      0.85       891\n",
      "weighted avg       0.86      0.86      0.86       891\n",
      "\n",
      "Decision Tree\n",
      "              precision    recall  f1-score   support\n",
      "\n",
      "           0       0.83      0.93      0.88       549\n",
      "           1       0.86      0.70      0.77       342\n",
      "\n",
      "    accuracy                           0.84       891\n",
      "   macro avg       0.85      0.82      0.83       891\n",
      "weighted avg       0.84      0.84      0.84       891\n",
      "\n"
     ]
    }
   ],
   "source": [
    "# 13 - consider the metrics for each of the classification models\n",
    "\n",
    "print('Logistic Regression:')\n",
    "print(classification_report(y, log_reg_prediction))\n",
    "print('K-Nearest Neighbors')\n",
    "print(classification_report(y, KNN_prediction))\n",
    "print('Decision Tree')\n",
    "print(classification_report(y, Decision_tree_prediction))"
   ]
  },
  {
   "cell_type": "code",
   "execution_count": 16,
   "id": "591b4315",
   "metadata": {
    "execution": {
     "iopub.execute_input": "2023-03-23T14:41:05.311069Z",
     "iopub.status.busy": "2023-03-23T14:41:05.310660Z",
     "iopub.status.idle": "2023-03-23T14:41:05.333528Z",
     "shell.execute_reply": "2023-03-23T14:41:05.332180Z"
    },
    "papermill": {
     "duration": 0.034373,
     "end_time": "2023-03-23T14:41:05.336371",
     "exception": false,
     "start_time": "2023-03-23T14:41:05.301998",
     "status": "completed"
    },
    "tags": []
   },
   "outputs": [
    {
     "data": {
      "text/plain": [
       "array([0, 0, 0, 0, 0, 0, 1, 0, 1, 0, 0, 1, 1, 0, 1, 1, 0, 0, 0, 0, 1, 0,\n",
       "       1, 0, 1, 0, 1, 0, 0, 0, 0, 0, 0, 0, 1, 0, 0, 0, 0, 0, 0, 0, 0, 1,\n",
       "       1, 0, 1, 0, 1, 0, 0, 0, 1, 1, 0, 0, 0, 0, 0, 1, 0, 0, 0, 0, 1, 1,\n",
       "       1, 1, 0, 1, 0, 0, 1, 0, 1, 0, 0, 1, 0, 0, 0, 0, 1, 0, 0, 0, 0, 1,\n",
       "       1, 1, 0, 0, 1, 0, 0, 0, 1, 0, 1, 0, 1, 0, 0, 0, 1, 0, 0, 0, 0, 0,\n",
       "       0, 1, 1, 1, 1, 0, 0, 1, 0, 1, 1, 0, 1, 0, 0, 1, 0, 1, 0, 0, 0, 0,\n",
       "       1, 0, 0, 0, 0, 0, 0, 0, 1, 1, 1, 0, 0, 0, 0, 0, 0, 0, 1, 0, 0, 0,\n",
       "       0, 0, 1, 0, 0, 0, 1, 0, 1, 0, 0, 0, 1, 0, 1, 1, 0, 0, 0, 0, 0, 1,\n",
       "       1, 1, 1, 1, 0, 0, 1, 0, 1, 0, 1, 0, 0, 0, 0, 0, 0, 0, 0, 0, 1, 1,\n",
       "       0, 1, 1, 1, 1, 1, 0, 0, 0, 0, 1, 0, 0, 0, 0, 1, 0, 0, 1, 0, 1, 0,\n",
       "       1, 0, 1, 0, 1, 1, 0, 1, 0, 0, 0, 1, 0, 0, 0, 0, 0, 0, 1, 1, 1, 1,\n",
       "       0, 0, 0, 0, 1, 0, 1, 1, 1, 0, 0, 0, 0, 0, 0, 0, 1, 0, 0, 0, 1, 1,\n",
       "       0, 0, 0, 0, 1, 0, 0, 0, 1, 1, 0, 1, 0, 0, 0, 0, 1, 1, 1, 1, 1, 0,\n",
       "       0, 0, 0, 0, 0, 0, 0, 1, 0, 0, 1, 0, 0, 0, 0, 0, 0, 0, 1, 1, 0, 1,\n",
       "       0, 0, 0, 0, 0, 1, 1, 1, 0, 0, 0, 0, 0, 0, 0, 0, 1, 0, 1, 0, 0, 0,\n",
       "       1, 0, 0, 1, 0, 0, 0, 0, 0, 0, 0, 0, 0, 1, 0, 1, 0, 1, 0, 1, 1, 0,\n",
       "       0, 0, 1, 0, 1, 0, 0, 0, 0, 1, 1, 0, 1, 0, 0, 0, 1, 0, 0, 1, 0, 0,\n",
       "       1, 1, 1, 0, 0, 0, 0, 0, 1, 1, 0, 1, 0, 0, 0, 0, 1, 1, 0, 0, 0, 1,\n",
       "       0, 1, 0, 0, 1, 0, 1, 0, 0, 0, 0, 1, 1, 1, 1, 1, 0, 0, 1, 0, 0, 0])"
      ]
     },
     "execution_count": 16,
     "metadata": {},
     "output_type": "execute_result"
    }
   ],
   "source": [
    "# 14 - for the final solution, I used the nearest neighbors method, since it gave me the best result\n",
    "# make a prediction on test data\n",
    "\n",
    "result = clf_KNN.predict(test_std)\n",
    "result"
   ]
  },
  {
   "cell_type": "code",
   "execution_count": 17,
   "id": "bff07ba6",
   "metadata": {
    "execution": {
     "iopub.execute_input": "2023-03-23T14:41:05.353584Z",
     "iopub.status.busy": "2023-03-23T14:41:05.352672Z",
     "iopub.status.idle": "2023-03-23T14:41:05.367112Z",
     "shell.execute_reply": "2023-03-23T14:41:05.365562Z"
    },
    "papermill": {
     "duration": 0.026279,
     "end_time": "2023-03-23T14:41:05.370148",
     "exception": false,
     "start_time": "2023-03-23T14:41:05.343869",
     "status": "completed"
    },
    "tags": []
   },
   "outputs": [],
   "source": [
    "# 15 - create final submit file-csv\n",
    "\n",
    "kapturov_titanic = pd.DataFrame({'PassengerId': test.PassengerId, 'Survived': result})\n",
    "kapturov_titanic.to_csv('kapturov_titanic.csv', index=False)"
   ]
  },
  {
   "cell_type": "markdown",
   "id": "190c1550",
   "metadata": {
    "papermill": {
     "duration": 0.007101,
     "end_time": "2023-03-23T14:41:05.384748",
     "exception": false,
     "start_time": "2023-03-23T14:41:05.377647",
     "status": "completed"
    },
    "tags": []
   },
   "source": [
    "![](https://media.istockphoto.com/id/1177487379/vector/cute-yellow-3d-smiley-face-with-thank-you-quote.jpg?s=612x612&w=0&k=20&c=KxT1Hra-B9vdSstbi4xJ2B-F5je9LfZGU_OO26tR2j0=)"
   ]
  }
 ],
 "metadata": {
  "kernelspec": {
   "display_name": "Python 3",
   "language": "python",
   "name": "python3"
  },
  "language_info": {
   "codemirror_mode": {
    "name": "ipython",
    "version": 3
   },
   "file_extension": ".py",
   "mimetype": "text/x-python",
   "name": "python",
   "nbconvert_exporter": "python",
   "pygments_lexer": "ipython3",
   "version": "3.7.12"
  },
  "papermill": {
   "default_parameters": {},
   "duration": 18.17456,
   "end_time": "2023-03-23T14:41:06.217322",
   "environment_variables": {},
   "exception": null,
   "input_path": "__notebook__.ipynb",
   "output_path": "__notebook__.ipynb",
   "parameters": {},
   "start_time": "2023-03-23T14:40:48.042762",
   "version": "2.4.0"
  }
 },
 "nbformat": 4,
 "nbformat_minor": 5
}
